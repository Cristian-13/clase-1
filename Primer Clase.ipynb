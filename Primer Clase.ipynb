{
 "cells": [
  {
   "cell_type": "code",
   "execution_count": 1,
   "metadata": {},
   "outputs": [
    {
     "name": "stdout",
     "output_type": "stream",
     "text": [
      "Hola mundo\n"
     ]
    }
   ],
   "source": [
    "print('Hola mundo')"
   ]
  },
  {
   "cell_type": "code",
   "execution_count": 4,
   "metadata": {},
   "outputs": [
    {
     "name": "stdout",
     "output_type": "stream",
     "text": [
      "No puede tomar cerveza\n"
     ]
    }
   ],
   "source": [
    "#Ejerciocio 1.\n",
    "#1.0\n",
    "\n",
    "edad=15\n",
    "if edad>=18: #prueba logica\n",
    "    print('Puede tomar cerveza')\n",
    "else:\n",
    "    print('No puede tomar cerveza')\n"
   ]
  },
  {
   "cell_type": "code",
   "execution_count": 6,
   "metadata": {},
   "outputs": [
    {
     "name": "stdout",
     "output_type": "stream",
     "text": [
      "Porfavor ingrese la edad20\n",
      "Puede tomar cerveza\n"
     ]
    }
   ],
   "source": [
    "#2.0\n",
    "#El usuario va a ingrasar la edad\n",
    "\n",
    "edad=int(input(\"Porfavor ingrese la edad\"))\n",
    "if edad>=18: #prueba logica\n",
    "    print('Puede tomar cerveza')\n",
    "else:\n",
    "    print('No puede tomar cerveza')"
   ]
  },
  {
   "cell_type": "code",
   "execution_count": 9,
   "metadata": {},
   "outputs": [],
   "source": [
    "#3.0\n",
    "#Creacion de una funcion \n",
    "\n",
    "def ejercicio1(edad):\n",
    "    if edad>=18: #prueba logica\n",
    "        print('Puede tomar cerveza')\n",
    "    else:\n",
    "        print('No puede tomar cerveza')\n",
    "    "
   ]
  },
  {
   "cell_type": "code",
   "execution_count": 12,
   "metadata": {},
   "outputs": [
    {
     "name": "stdout",
     "output_type": "stream",
     "text": [
      "Por favor ingrese la edad17\n",
      "No puede tomar cerveza\n"
     ]
    }
   ],
   "source": [
    "ejercicio1(int(input(\"Por favor ingrese la edad\")))"
   ]
  },
  {
   "cell_type": "markdown",
   "metadata": {},
   "source": [
    "\n",
    "Ejercicio 2\n"
   ]
  },
  {
   "cell_type": "code",
   "execution_count": 18,
   "metadata": {},
   "outputs": [
    {
     "name": "stdout",
     "output_type": "stream",
     "text": [
      "No compro nada\n"
     ]
    }
   ],
   "source": [
    "# Ejercicio 2\n",
    "# Ejercicio 2.0\n",
    "\n",
    "marca= 'Aguila'\n",
    "\n",
    "if marca == 'budweiser' :\n",
    "    print('Compro', marca)\n",
    "elif marca =='aguila':\n",
    "    print('compro',marca)\n",
    "else:\n",
    "    print('No compro nada')"
   ]
  },
  {
   "cell_type": "code",
   "execution_count": 22,
   "metadata": {},
   "outputs": [
    {
     "name": "stdout",
     "output_type": "stream",
     "text": [
      "compro Aguila\n"
     ]
    }
   ],
   "source": [
    "# Ejercicio 2.1\n",
    "# Estandarizacion de datos\n",
    "#lower de mayus a minus\n",
    "#upper de min a mayus\n",
    "\n",
    "marca='Aguila'\n",
    "\n",
    "if marca.lower()== 'budweiser' :\n",
    "    print('Compro', marca)\n",
    "elif marca.lower() =='aguila':\n",
    "    print('compro',marca)\n",
    "else:\n",
    "    print('No compro nada')"
   ]
  },
  {
   "cell_type": "code",
   "execution_count": 23,
   "metadata": {},
   "outputs": [
    {
     "name": "stdout",
     "output_type": "stream",
     "text": [
      "ingrese la marcaaguila\n",
      "compro aguila\n"
     ]
    }
   ],
   "source": [
    "#ingrese la marca por teclado\n",
    "\n",
    "marca=input('ingrese la marca')\n",
    "\n",
    "if marca.lower()== 'budweiser' :\n",
    "    print('Compro', marca)\n",
    "elif marca.lower() =='aguila':\n",
    "    print('compro',marca)\n",
    "else:\n",
    "    print('No compro nada')"
   ]
  },
  {
   "cell_type": "code",
   "execution_count": 24,
   "metadata": {},
   "outputs": [],
   "source": [
    "#Ejercicio 2.3\n",
    "\n",
    "def seleccionCompra():\n",
    "    marca=input('ingrese la marca')\n",
    "\n",
    "    if marca.lower()== 'budweiser' :\n",
    "        print('Compro', marca)\n",
    "    elif marca.lower() =='aguila':\n",
    "        print('compro',marca)\n",
    "    else:\n",
    "        print('No compro nada')\n",
    "    "
   ]
  },
  {
   "cell_type": "code",
   "execution_count": 27,
   "metadata": {},
   "outputs": [
    {
     "name": "stdout",
     "output_type": "stream",
     "text": [
      "ingrese la marcabudweiser\n",
      "Compro budweiser\n"
     ]
    }
   ],
   "source": [
    "seleccionCompra()"
   ]
  },
  {
   "cell_type": "code",
   "execution_count": null,
   "metadata": {},
   "outputs": [],
   "source": []
  }
 ],
 "metadata": {
  "kernelspec": {
   "display_name": "Python 3",
   "language": "python",
   "name": "python3"
  },
  "language_info": {
   "codemirror_mode": {
    "name": "ipython",
    "version": 3
   },
   "file_extension": ".py",
   "mimetype": "text/x-python",
   "name": "python",
   "nbconvert_exporter": "python",
   "pygments_lexer": "ipython3",
   "version": "3.8.5"
  }
 },
 "nbformat": 4,
 "nbformat_minor": 4
}
